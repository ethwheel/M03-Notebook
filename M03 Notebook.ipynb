{
 "cells": [
  {
   "cell_type": "code",
   "execution_count": 13,
   "id": "0ccf9fd4-4fcf-4d62-8d1f-2d3ec80adb57",
   "metadata": {},
   "outputs": [
    {
     "name": "stdout",
     "output_type": "stream",
     "text": [
      "['mozzarella', 'cinderella', 'salmonella']\n",
      "['mozzarella', 'Cinderella', 'salmonella']\n"
     ]
    }
   ],
   "source": [
    "things = [\"mozzarella\",\"cinderella\",\"salmonella\"]\n",
    "print(things)\n",
    "things2 = [\"mozzarella\",\"Cinderella\",\"salmonella\"]\n",
    "print(things2)\n",
    "#The order of the list did not change."
   ]
  },
  {
   "cell_type": "code",
   "execution_count": 17,
   "id": "c45cccc5-b5a8-425e-b2ce-d9eb0bc4e357",
   "metadata": {},
   "outputs": [
    {
     "name": "stdout",
     "output_type": "stream",
     "text": [
      "['MOZZARELLA', 'Cinderella', 'salmonella']\n"
     ]
    }
   ],
   "source": [
    "things = [\"MOZZARELLA\", \"Cinderella\", \"salmonella\"]\n",
    "print(things)"
   ]
  },
  {
   "cell_type": "code",
   "execution_count": 21,
   "id": "c3b54c8b-3971-4df6-834c-ad54a26e7498",
   "metadata": {},
   "outputs": [
    {
     "name": "stdout",
     "output_type": "stream",
     "text": [
      "['MOZZARELLA', 'Cinderella']\n"
     ]
    }
   ],
   "source": [
    "things = [\"MOZZARELLA\", \"Cinderella\"]\n",
    "print(things)"
   ]
  },
  {
   "cell_type": "code",
   "execution_count": 57,
   "id": "572fb5ad-39fb-4098-989c-51added81d80",
   "metadata": {},
   "outputs": [
    {
     "name": "stdout",
     "output_type": "stream",
     "text": [
      "['Harry', 'Ron', 'Herminoe']\n"
     ]
    }
   ],
   "source": [
    "def good():\n",
    "    return [\"Harry\", \"Ron\", \"Herminoe\"]\n",
    "print(good())"
   ]
  },
  {
   "cell_type": "code",
   "execution_count": 115,
   "id": "ca901cd1-25d0-426c-964f-69be769c51e3",
   "metadata": {},
   "outputs": [
    {
     "data": {
      "text/plain": [
       "5"
      ]
     },
     "execution_count": 115,
     "metadata": {},
     "output_type": "execute_result"
    }
   ],
   "source": [
    "def get_odds(first=1,last=10, step=2):\n",
    "    number = first\n",
    "    while number < last:\n",
    "        yield number\n",
    "        number += step\n",
    "list = []\n",
    "for value in get_odds():\n",
    "    list.append(value)\n",
    "list[2]"
   ]
  },
  {
   "cell_type": "code",
   "execution_count": null,
   "id": "240db7c5-a112-42a2-a0f5-d7f0260b868d",
   "metadata": {},
   "outputs": [],
   "source": []
  }
 ],
 "metadata": {
  "kernelspec": {
   "display_name": "Python 3 (ipykernel)",
   "language": "python",
   "name": "python3"
  },
  "language_info": {
   "codemirror_mode": {
    "name": "ipython",
    "version": 3
   },
   "file_extension": ".py",
   "mimetype": "text/x-python",
   "name": "python",
   "nbconvert_exporter": "python",
   "pygments_lexer": "ipython3",
   "version": "3.11.7"
  }
 },
 "nbformat": 4,
 "nbformat_minor": 5
}
